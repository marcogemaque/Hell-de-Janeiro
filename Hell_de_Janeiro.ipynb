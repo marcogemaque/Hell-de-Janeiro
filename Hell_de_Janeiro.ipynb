{
  "nbformat": 4,
  "nbformat_minor": 0,
  "metadata": {
    "colab": {
      "name": "Hell-de-Janeiro.ipynb",
      "provenance": [],
      "collapsed_sections": [
        "T1tGbNgiwwK6"
      ],
      "authorship_tag": "ABX9TyOF3k57VBM4dEN5W2fHYJsB",
      "include_colab_link": true
    },
    "kernelspec": {
      "name": "python3",
      "display_name": "Python 3"
    }
  },
  "cells": [
    {
      "cell_type": "markdown",
      "metadata": {
        "id": "view-in-github",
        "colab_type": "text"
      },
      "source": [
        "<a href=\"https://colab.research.google.com/github/marcogemaque/Hell-de-Janeiro/blob/main/Hell_de_Janeiro.ipynb\" target=\"_parent\"><img src=\"https://colab.research.google.com/assets/colab-badge.svg\" alt=\"Open In Colab\"/></a>"
      ]
    },
    {
      "cell_type": "markdown",
      "metadata": {
        "id": "NdZ8373MwzR6"
      },
      "source": [
        "## **Welcome to Hell-de-Janeiro 0.2.0**\r\n",
        "\r\n",
        "This is a small app built in order to quantify the amount of shootings that happen in the marvelous city. The real focus in here is to \"unormalize\" the crazy amount of violence we have in Rio, by showing a map of the city and putting into perspective what do we know and also how does the media portray shootings depending on where do they happen."
      ]
    },
    {
      "cell_type": "markdown",
      "metadata": {
        "id": "T1tGbNgiwwK6"
      },
      "source": [
        "## **Get Data from API**"
      ]
    },
    {
      "cell_type": "code",
      "metadata": {
        "id": "5YYjtg0bBLBf"
      },
      "source": [
        "api_key = 'VYxaw4CVKpdtFGXgIzic5GHIl'\r\n",
        "api_secret_key = 'Udiqt3beUN6kvKlrMT192Tq8aFNKhztJVOCyPCV5s5rLaEPWKM'\r\n",
        "bearer = 'AAAAAAAAAAAAAAAAAAAAAO%2FwLwEAAAAA6YSq3ILZMkqiIYW7yOPrJqWPFys%3Dah7LH54oB6HD1KtAHnuc9YHArxlEGtFih2BrjZq4QMVMWDH2rI'\r\n",
        "access_token = '1352216164953452546-HtITyrWZXE7WgibK5VQrAwB0yioCnR'\r\n",
        "access_token_secret = 'GBQRAncELZAXxYLjN5AF9usNPGkMhUHKI5ZpeVNetS7Ps'"
      ],
      "execution_count": null,
      "outputs": []
    },
    {
      "cell_type": "code",
      "metadata": {
        "colab": {
          "base_uri": "https://localhost:8080/"
        },
        "id": "VfB14BqTvotT",
        "outputId": "0752e1b8-d8d2-498f-dce2-d47ae611724b"
      },
      "source": [
        "!pip install tweepy"
      ],
      "execution_count": null,
      "outputs": [
        {
          "output_type": "stream",
          "text": [
            "Requirement already satisfied: tweepy in /usr/local/lib/python3.6/dist-packages (3.6.0)\n",
            "Requirement already satisfied: PySocks>=1.5.7 in /usr/local/lib/python3.6/dist-packages (from tweepy) (1.7.1)\n",
            "Requirement already satisfied: six>=1.10.0 in /usr/local/lib/python3.6/dist-packages (from tweepy) (1.15.0)\n",
            "Requirement already satisfied: requests>=2.11.1 in /usr/local/lib/python3.6/dist-packages (from tweepy) (2.23.0)\n",
            "Requirement already satisfied: requests-oauthlib>=0.7.0 in /usr/local/lib/python3.6/dist-packages (from tweepy) (1.3.0)\n",
            "Requirement already satisfied: certifi>=2017.4.17 in /usr/local/lib/python3.6/dist-packages (from requests>=2.11.1->tweepy) (2020.12.5)\n",
            "Requirement already satisfied: urllib3!=1.25.0,!=1.25.1,<1.26,>=1.21.1 in /usr/local/lib/python3.6/dist-packages (from requests>=2.11.1->tweepy) (1.24.3)\n",
            "Requirement already satisfied: idna<3,>=2.5 in /usr/local/lib/python3.6/dist-packages (from requests>=2.11.1->tweepy) (2.10)\n",
            "Requirement already satisfied: chardet<4,>=3.0.2 in /usr/local/lib/python3.6/dist-packages (from requests>=2.11.1->tweepy) (3.0.4)\n",
            "Requirement already satisfied: oauthlib>=3.0.0 in /usr/local/lib/python3.6/dist-packages (from requests-oauthlib>=0.7.0->tweepy) (3.1.0)\n"
          ],
          "name": "stdout"
        }
      ]
    },
    {
      "cell_type": "code",
      "metadata": {
        "id": "kxdoOP5XPzkw"
      },
      "source": [
        "import requests\r\n",
        "import json\r\n",
        "import tweepy\r\n",
        "import pandas as pd\r\n",
        "import re\r\n",
        "import time"
      ],
      "execution_count": 6,
      "outputs": []
    },
    {
      "cell_type": "code",
      "metadata": {
        "id": "cOlNyOOKP6KQ"
      },
      "source": [
        "def connect_to_twitter_OAuth():\r\n",
        "    auth = tweepy.OAuthHandler(api_key, api_secret_key)\r\n",
        "    auth.set_access_token(access_token, access_token_secret)\r\n",
        "\r\n",
        "    api = tweepy.API(auth)\r\n",
        "    return api\r\n",
        "\r\n",
        "def transform_tweets(tweet_obj):\r\n",
        "    #Transform tweet object texts to lists\r\n",
        "    list_tweets = [] #Empty list to store tweets\r\n",
        "    for tweet in tweet_obj:\r\n",
        "        tweet_date = tweet.created_at\r\n",
        "        tweet_text = tweet.text\r\n",
        "        tweet_id = tweet.id\r\n",
        "        list_tweets.append({'date':tweet_date,\r\n",
        "                            'content':tweet_text,\r\n",
        "                            'id':tweet_id})\r\n",
        "        \r\n",
        "    #Create dataframe\r\n",
        "    df = pd.DataFrame(list_tweets, columns=['date','content','id'])\r\n",
        "    return df\r\n",
        "\r\n",
        "#Create API object\r\n",
        "api = connect_to_twitter_OAuth()\r\n",
        "\r\n",
        "#Create function to retrieve more tweets\r\n",
        "def twitter_scraper():\r\n",
        "    api = connect_to_twitter_OAuth()\r\n",
        "    ott = api.user_timeline('RJ_OTT', count=200)\r\n",
        "    df_inside = transform_tweets(ott)\r\n",
        "    result = df_inside\r\n",
        "    for i in range(59):\r\n",
        "        try:\r\n",
        "            time.sleep(1) #sleep for 1 second\r\n",
        "            last_id = result['id'].values[-1]\r\n",
        "            ott = api.user_timeline('RJ_OTT', count=200, max_id=str(last_id))\r\n",
        "            df_inner = transform_tweets(ott)\r\n",
        "            list_dfs = [result, df_inner]\r\n",
        "            result = pd.concat(list_dfs)\r\n",
        "            result = result.sort_values(by=['id'], ascending=False)\r\n",
        "        except:\r\n",
        "            pass\r\n",
        "    return result\r\n",
        "\r\n",
        "df_tweets = twitter_scraper()\r\n",
        "df = df_tweets.copy() #create a copy so we can always change the outlet dataframe"
      ],
      "execution_count": null,
      "outputs": []
    },
    {
      "cell_type": "code",
      "metadata": {
        "colab": {
          "base_uri": "https://localhost:8080/",
          "height": 194
        },
        "id": "NpdzRvQwVDCx",
        "outputId": "44b9c4ae-d9eb-4c9c-de7d-a04604548c3d"
      },
      "source": [
        "df.tail()"
      ],
      "execution_count": null,
      "outputs": [
        {
          "output_type": "execute_result",
          "data": {
            "text/html": [
              "<div>\n",
              "<style scoped>\n",
              "    .dataframe tbody tr th:only-of-type {\n",
              "        vertical-align: middle;\n",
              "    }\n",
              "\n",
              "    .dataframe tbody tr th {\n",
              "        vertical-align: top;\n",
              "    }\n",
              "\n",
              "    .dataframe thead th {\n",
              "        text-align: right;\n",
              "    }\n",
              "</style>\n",
              "<table border=\"1\" class=\"dataframe\">\n",
              "  <thead>\n",
              "    <tr style=\"text-align: right;\">\n",
              "      <th></th>\n",
              "      <th>date</th>\n",
              "      <th>content</th>\n",
              "      <th>id</th>\n",
              "    </tr>\n",
              "  </thead>\n",
              "  <tbody>\n",
              "    <tr>\n",
              "      <th>0</th>\n",
              "      <td>2019-04-02 09:35:02</td>\n",
              "      <td>OTT-RJ Informa:\\n\\n02/04 - 06:25h\\n\\nTiros na ...</td>\n",
              "      <td>1113011950844329985</td>\n",
              "    </tr>\n",
              "    <tr>\n",
              "      <th>0</th>\n",
              "      <td>2019-04-02 09:35:02</td>\n",
              "      <td>OTT-RJ Informa:\\n\\n02/04 - 06:25h\\n\\nTiros na ...</td>\n",
              "      <td>1113011950844329985</td>\n",
              "    </tr>\n",
              "    <tr>\n",
              "      <th>0</th>\n",
              "      <td>2019-04-02 09:35:02</td>\n",
              "      <td>OTT-RJ Informa:\\n\\n02/04 - 06:25h\\n\\nTiros na ...</td>\n",
              "      <td>1113011950844329985</td>\n",
              "    </tr>\n",
              "    <tr>\n",
              "      <th>0</th>\n",
              "      <td>2019-04-02 09:35:02</td>\n",
              "      <td>OTT-RJ Informa:\\n\\n02/04 - 06:25h\\n\\nTiros na ...</td>\n",
              "      <td>1113011950844329985</td>\n",
              "    </tr>\n",
              "    <tr>\n",
              "      <th>0</th>\n",
              "      <td>2019-04-02 09:35:02</td>\n",
              "      <td>OTT-RJ Informa:\\n\\n02/04 - 06:25h\\n\\nTiros na ...</td>\n",
              "      <td>1113011950844329985</td>\n",
              "    </tr>\n",
              "  </tbody>\n",
              "</table>\n",
              "</div>"
            ],
            "text/plain": [
              "                 date  ...                   id\n",
              "0 2019-04-02 09:35:02  ...  1113011950844329985\n",
              "0 2019-04-02 09:35:02  ...  1113011950844329985\n",
              "0 2019-04-02 09:35:02  ...  1113011950844329985\n",
              "0 2019-04-02 09:35:02  ...  1113011950844329985\n",
              "0 2019-04-02 09:35:02  ...  1113011950844329985\n",
              "\n",
              "[5 rows x 3 columns]"
            ]
          },
          "metadata": {
            "tags": []
          },
          "execution_count": 161
        }
      ]
    },
    {
      "cell_type": "code",
      "metadata": {
        "id": "MASgXm5GWwR9",
        "colab": {
          "base_uri": "https://localhost:8080/"
        },
        "outputId": "e0f4c13d-d27e-43d2-a030-e957e58872f9"
      },
      "source": [
        "df.info()"
      ],
      "execution_count": null,
      "outputs": [
        {
          "output_type": "stream",
          "text": [
            "<class 'pandas.core.frame.DataFrame'>\n",
            "Int64Index: 3262 entries, 0 to 0\n",
            "Data columns (total 3 columns):\n",
            " #   Column   Non-Null Count  Dtype         \n",
            "---  ------   --------------  -----         \n",
            " 0   date     3262 non-null   datetime64[ns]\n",
            " 1   content  3262 non-null   object        \n",
            " 2   id       3262 non-null   int64         \n",
            "dtypes: datetime64[ns](1), int64(1), object(1)\n",
            "memory usage: 101.9+ KB\n"
          ],
          "name": "stdout"
        }
      ]
    },
    {
      "cell_type": "markdown",
      "metadata": {
        "id": "sSSEvResqSkD"
      },
      "source": [
        "## **Wrangle the database**"
      ]
    },
    {
      "cell_type": "markdown",
      "metadata": {
        "id": "nXNBEiWd6fs1"
      },
      "source": [
        "We have some ways in which the tweets were written. The main captured standards were: <br>\r\n",
        "1) Local: xxx, Rio de Janeiro <br>\r\n",
        "2) Local: xxx <br>\r\n",
        "3) Tiros ouvidos na/em xxx <br>\r\n",
        "4) Tiros na/em xxx <br>\r\n",
        "5) Disparos ouvidos em/no xxx <br>\r\n",
        "A major way to split would be to catch the first occurence of a comma (\",\"), since this is a common character splitting. We need regex for all other standards as well. Perhaps a common function would be better to use which comprises of all the possible methods instead of writing multiple lines of regex. But we'll see."
      ]
    },
    {
      "cell_type": "code",
      "metadata": {
        "colab": {
          "base_uri": "https://localhost:8080/"
        },
        "id": "NWFLqtspM540",
        "outputId": "63794425-327f-4cc1-a032-d342ba416105"
      },
      "source": [
        "from google.colab import drive\n",
        "drive.mount('/content/drive')"
      ],
      "execution_count": 2,
      "outputs": [
        {
          "output_type": "stream",
          "text": [
            "Drive already mounted at /content/drive; to attempt to forcibly remount, call drive.mount(\"/content/drive\", force_remount=True).\n"
          ],
          "name": "stdout"
        }
      ]
    },
    {
      "cell_type": "code",
      "metadata": {
        "id": "RfAz7HjvNARl"
      },
      "source": [
        "df = pd.read_csv('/content/drive/My Drive/Hell-de-Janeiro App/output.csv')"
      ],
      "execution_count": 23,
      "outputs": []
    },
    {
      "cell_type": "code",
      "metadata": {
        "id": "sJbp6PeMFDzj"
      },
      "source": [
        "#Drop columns\r\n",
        "df = df.drop(['Unnamed: 0'], axis=1)"
      ],
      "execution_count": 24,
      "outputs": []
    },
    {
      "cell_type": "code",
      "metadata": {
        "colab": {
          "base_uri": "https://localhost:8080/",
          "height": 194
        },
        "id": "W8vf7dCZQdNE",
        "outputId": "cb0b17d7-aac1-4dbe-bd47-9d6b7aa23b8e"
      },
      "source": [
        "df.head()"
      ],
      "execution_count": 25,
      "outputs": [
        {
          "output_type": "execute_result",
          "data": {
            "text/html": [
              "<div>\n",
              "<style scoped>\n",
              "    .dataframe tbody tr th:only-of-type {\n",
              "        vertical-align: middle;\n",
              "    }\n",
              "\n",
              "    .dataframe tbody tr th {\n",
              "        vertical-align: top;\n",
              "    }\n",
              "\n",
              "    .dataframe thead th {\n",
              "        text-align: right;\n",
              "    }\n",
              "</style>\n",
              "<table border=\"1\" class=\"dataframe\">\n",
              "  <thead>\n",
              "    <tr style=\"text-align: right;\">\n",
              "      <th></th>\n",
              "      <th>date</th>\n",
              "      <th>content</th>\n",
              "      <th>id</th>\n",
              "    </tr>\n",
              "  </thead>\n",
              "  <tbody>\n",
              "    <tr>\n",
              "      <th>0</th>\n",
              "      <td>2021-01-24 13:08:29</td>\n",
              "      <td>Tiroteio - 24/01/2021 às 10:06\\nLocal: Pilares...</td>\n",
              "      <td>1353328823266398216</td>\n",
              "    </tr>\n",
              "    <tr>\n",
              "      <th>1</th>\n",
              "      <td>2021-01-24 03:27:35</td>\n",
              "      <td>Disparos ouvidos - 24/01/2021 às 00:20h\\nLocal...</td>\n",
              "      <td>1353182632897622017</td>\n",
              "    </tr>\n",
              "    <tr>\n",
              "      <th>2</th>\n",
              "      <td>2021-01-24 03:22:18</td>\n",
              "      <td>Disparos ouvidos - 24/01/2021 às 00:00h\\nLocal...</td>\n",
              "      <td>1353181303441682438</td>\n",
              "    </tr>\n",
              "    <tr>\n",
              "      <th>3</th>\n",
              "      <td>2021-01-24 01:13:09</td>\n",
              "      <td>OTT-RJ INFORMA:\\n\\n23/01 - 21:43h\\nTiros emBel...</td>\n",
              "      <td>1353148801989672961</td>\n",
              "    </tr>\n",
              "    <tr>\n",
              "      <th>4</th>\n",
              "      <td>2021-01-23 06:51:57</td>\n",
              "      <td>Tiroteio - 23/01/2021 às 03:36h\\nLocal: Andara...</td>\n",
              "      <td>1352871674924957696</td>\n",
              "    </tr>\n",
              "  </tbody>\n",
              "</table>\n",
              "</div>"
            ],
            "text/plain": [
              "                  date  ...                   id\n",
              "0  2021-01-24 13:08:29  ...  1353328823266398216\n",
              "1  2021-01-24 03:27:35  ...  1353182632897622017\n",
              "2  2021-01-24 03:22:18  ...  1353181303441682438\n",
              "3  2021-01-24 01:13:09  ...  1353148801989672961\n",
              "4  2021-01-23 06:51:57  ...  1352871674924957696\n",
              "\n",
              "[5 rows x 3 columns]"
            ]
          },
          "metadata": {
            "tags": []
          },
          "execution_count": 25
        }
      ]
    },
    {
      "cell_type": "code",
      "metadata": {
        "id": "FZiiWY8tsmed",
        "colab": {
          "base_uri": "https://localhost:8080/",
          "height": 213
        },
        "outputId": "f176fba3-c172-4291-c60a-bf48ab343c20"
      },
      "source": [
        "\"\"\"\r\n",
        "So this is how things are going to be.\r\n",
        "1) Create regex expression to filter dataframe\r\n",
        "2) Get indexes of filtered entries by regex\r\n",
        "3) On to the next regex expression, remove the indexes from the previous created regex\r\n",
        "\"\"\"\r\n",
        "\r\n",
        "#Standard Local: xxx, Rio de Janeiro or Local: xxx\r\n",
        "df_out = df.copy()\r\n",
        "df_out['content'] = df['content'].str.split(r\"\\s*Local:\", expand=True)[1]\r\n",
        "df_out['content'] = df_out['content'].str.split(r\"\\s*Rio de Janeiro|\\n\", expand=True)[0]\r\n",
        "df_out['content'] = df_out['content'].str.replace(r\"^\\s\", \"\")\r\n",
        "df_out = df_out.dropna()\r\n",
        "\r\n",
        "\"\"\"\r\n",
        "#Deprecated section of code. Update on 2021-02-03\r\n",
        "list_index = df_out.index.values.tolist()\r\n",
        "\r\n",
        "#Get the same dataframe, but this time remove the indexes you have retrieved\r\n",
        "df_own = df.drop(list_index)\r\n",
        "\r\n",
        "#Get the second regex\r\n",
        "df_out2 = df_own['content'].str.split(r\"\\s*Tiros em|Tiros na\", expand=True)[1]\r\n",
        "df_out2 = df_out2.str.split(\",\", expand=True)[0]\r\n",
        "df_out2 = df_out2.str.replace(r\"^\\s\", \"\")\r\n",
        "df_out2 = pd.DataFrame(df_out2)\r\n",
        "df_out2 = df_out2.dropna()\r\n",
        "df_out2.columns = ['Place']\r\n",
        "\r\n",
        "#Get the same dataframe, but this time remove the indexes you have retrieved before\r\n",
        "list_index.extend(df_out2.index.values.tolist())\r\n",
        "df_own = df.drop(list_index)\r\n",
        "\r\n",
        "#Get the third regex\r\n",
        "df_out3 = df_own['content'].str.split(r\"\\s*no |em |na \", expand=True)[1]\r\n",
        "df_out3 = df_out3.str.split(\",\", expand=True)[0]\r\n",
        "df_out3 = df_out3.str.replace(r\"^\\s\", \"\")\r\n",
        "df_out3 = pd.DataFrame(df_out3)\r\n",
        "df_out3 = df_out3.dropna()\r\n",
        "df_out3.columns = ['Place']\r\n",
        "df_out3.head()\r\n",
        "\r\n",
        "#Get the same dataframe, but this time remove the indexes you have retrieved before\r\n",
        "list_index.extend(df_out3.index.values.tolist())\r\n",
        "df_own = df.drop(list_index)\r\n",
        "\"\"\""
      ],
      "execution_count": 26,
      "outputs": [
        {
          "output_type": "execute_result",
          "data": {
            "application/vnd.google.colaboratory.intrinsic+json": {
              "type": "string"
            },
            "text/plain": [
              "'\\n#Deprecated section of code. Update on 2021-02-03\\nlist_index = df_out.index.values.tolist()\\n\\n#Get the same dataframe, but this time remove the indexes you have retrieved\\ndf_own = df.drop(list_index)\\n\\n#Get the second regex\\ndf_out2 = df_own[\\'content\\'].str.split(r\"\\\\s*Tiros em|Tiros na\", expand=True)[1]\\ndf_out2 = df_out2.str.split(\",\", expand=True)[0]\\ndf_out2 = df_out2.str.replace(r\"^\\\\s\", \"\")\\ndf_out2 = pd.DataFrame(df_out2)\\ndf_out2 = df_out2.dropna()\\ndf_out2.columns = [\\'Place\\']\\n\\n#Get the same dataframe, but this time remove the indexes you have retrieved before\\nlist_index.extend(df_out2.index.values.tolist())\\ndf_own = df.drop(list_index)\\n\\n#Get the third regex\\ndf_out3 = df_own[\\'content\\'].str.split(r\"\\\\s*no |em |na \", expand=True)[1]\\ndf_out3 = df_out3.str.split(\",\", expand=True)[0]\\ndf_out3 = df_out3.str.replace(r\"^\\\\s\", \"\")\\ndf_out3 = pd.DataFrame(df_out3)\\ndf_out3 = df_out3.dropna()\\ndf_out3.columns = [\\'Place\\']\\ndf_out3.head()\\n\\n#Get the same dataframe, but this time remove the indexes you have retrieved before\\nlist_index.extend(df_out3.index.values.tolist())\\ndf_own = df.drop(list_index)\\n'"
            ]
          },
          "metadata": {
            "tags": []
          },
          "execution_count": 26
        }
      ]
    },
    {
      "cell_type": "code",
      "metadata": {
        "id": "Tfg8ATFK1pcL"
      },
      "source": [
        "df_out['content'] = df_out['content'].str.replace(r\"^\\s\", \"\") #replaces blank space ahead\r\n",
        "df_out['content'] = df_out['content'].str.replace(r\"\\s$\", \"\") #replaces blank space at the end or dot\r\n",
        "df_out['content'] = df_out['content'].apply(lambda x: x.split(\"(\")[0] if \"(\" in x else x) #removes everything after \"(\"\r\n",
        "df_out['content'] = df_out['content'].apply(lambda x: x.split(\"-\")[0] if \"-\" in x else x) #removes everything after \"-\"\r\n",
        "df_out['content'] = df_out['content'].apply(lambda x: x.split(\"/\")[0] if \"/\" in x else x) #removes everything after \"/\"\r\n",
        "df_out['content'] = df_out['content'].apply(lambda x: x.split(\".\")[0] if \".\" in x else x) #removes everything after \".\"\r\n",
        "df_out['content'] = df_out['content'].apply(lambda x: x.split(\",\")[0] if \",\" in x else x) #removes everything after \",\"\r\n",
        "df_out['content'] = df_out['content'].apply(lambda x: x.split(r\" Rio de J\")[0] if \" Rio de J\" in x else x) #removes everything after \" Rio de Jan\"\r\n",
        "df_out['content'] = df_out['content'].apply(lambda x: x.split(r\" e \")[0] if \" e \" in x else x) #removes everything after \" e \"\r\n",
        "df_out['content'] = df_out['content'].apply(lambda x: x.rstrip()) #removes whitespace at the end of the string"
      ],
      "execution_count": 27,
      "outputs": []
    },
    {
      "cell_type": "code",
      "metadata": {
        "colab": {
          "base_uri": "https://localhost:8080/"
        },
        "id": "DXuv3ORv1Vvq",
        "outputId": "89cf2bc2-b150-40bc-fc66-4671ed7e8e9a"
      },
      "source": [
        "uniques = df_out['content'].unique()\r\n",
        "uniques"
      ],
      "execution_count": 31,
      "outputs": [
        {
          "output_type": "execute_result",
          "data": {
            "text/plain": [
              "array(['Pilares', 'Rio Comprido', 'Piedade', 'Andaraí', 'Praça Seca',\n",
              "       'Cascadura', 'Belford Roxo', 'Brás de Pina', 'Maré',\n",
              "       'Duque de Caxias', 'Quintino Bocaiuva', 'Senador Camará',\n",
              "       'Catumbi', 'Complexo do Alemão', 'Madureira', 'Costa Barros',\n",
              "       'Vila Kennedy', 'Leme', 'Angra dos Reis', 'São Gonçalo', 'Japeri',\n",
              "       'Cosme Velho', 'Jardim América', 'Caju', 'Mangueira', 'Magé',\n",
              "       'Centro', 'Glória', 'Cavalcanti', 'Quintino', 'Jacarezinho',\n",
              "       'Engenho da Rainha', 'Complexo da Maré', 'Penha', 'Mesquita',\n",
              "       'Morro do Estado', 'Praça da Bandeira', 'Vila Isabel',\n",
              "       'Complexo da Penha', 'Santa Teresa', 'Cordovil', 'Manguinhos',\n",
              "       'Anchieta', 'Cidade de Deus', 'Bonsucesso', 'Grajaú',\n",
              "       'Engenheiro Pedreira', 'Caxias', 'Copacabana', 'Laranjeiras',\n",
              "       'Tijuca', 'Magalhães Bastos', 'Santo Cristo', 'Irajá', 'Estácio',\n",
              "       'Benfica', 'Vasco da Gama', 'Cidade Universitária',\n",
              "       'Penha Circular', 'Niterói', 'Complexo do Lins', 'Macaé',\n",
              "       'Ilha do Governador', 'Catete', 'Pavuna', 'Engenho Novo',\n",
              "       'Campinho', 'São Francisco Xavier', 'Jacaré', 'Vaz Lobo',\n",
              "       'Realengo', 'Itaguaí', 'Nova Iguaçu', 'Providência',\n",
              "       'São João de Meriti', 'Vila Cruzeiro', 'Taquara', 'Encantado',\n",
              "       'Bancários', '', 'Botafogo', 'Recreio', 'Maricá', 'Nilópolis',\n",
              "       'Cachambi', 'Lins de Vasconcelos', 'Arraial do Cabo', 'Tanguá',\n",
              "       'Rocha Miranda', 'Santa Marta', 'Del Castilho', 'Guadalupe',\n",
              "       'Ingá', 'Lins', 'Rio das Ostras', 'Freguesia',\n",
              "       'Conceição de Macabu', 'Pechincha', 'Barra Mansa', 'Itatiaia',\n",
              "       'Ilha Grande', 'São Cristóvão', 'Tomás Coelho', 'Ramos',\n",
              "       'Honório Gurgel', 'Lagoa', 'Campo Grande', 'Galeão', 'Tanque',\n",
              "       'Vicente de Carvalho', 'Água Santa', 'Bangu', 'Méier'],\n",
              "      dtype=object)"
            ]
          },
          "metadata": {
            "tags": []
          },
          "execution_count": 31
        }
      ]
    },
    {
      "cell_type": "code",
      "metadata": {
        "id": "NtzjXABia1Ek"
      },
      "source": [
        "df_out = df_out.drop([530])"
      ],
      "execution_count": 52,
      "outputs": []
    },
    {
      "cell_type": "code",
      "metadata": {
        "id": "32ke1yO10fDG"
      },
      "source": [
        "locations = {'Pilares':[-22.8814,-43.2835],\r\n",
        "             'Rio Comprido':[-22.9252, -43.2053],\r\n",
        "             'Piedade':[-22.8963, -43.3127],\r\n",
        "             'Andaraí':[-22.9260, -43.2487],\r\n",
        "             'Praça Seca':[-22.8969, -43.3517],\r\n",
        "             'Cascadura':[-22.8822, -42.3246],\r\n",
        "             'Belford Roxo':[-22.7645, -43.39960],\r\n",
        "             'Brás de Pina':[-22.7645, -43.39960],\r\n",
        "             'Maré':[-22.8554,-43.2422],\r\n",
        "             'Duque de Caxias':[-22.7863, -43.3053],\r\n",
        "             'Quintino Bocaiuva':[-22.8876, -43.3192],\r\n",
        "             'Senador Camará':[-22.8795,-43.4893],\r\n",
        "             'Catumbi':[-22.9167, -43.1962],\r\n",
        "             'Complexo do Alemão':[-22.8594,-43.2754],\r\n",
        "             'Madureira':[-22.8725, -43.3364],\r\n",
        "             'Costa Barros':[-22.8243,-43.3727],\r\n",
        "             'Vila Kennedy':[-22.8604,-43.4884],\r\n",
        "             'Leme':[-22.9615,-43,1662],\r\n",
        "             'Angra dos Reis':[-23.0057,-44.3158],\r\n",
        "             'São Gonçalo':[-22.8273,-43.0638],\r\n",
        "             'Japeri':[-22.6438,-43.6601],\r\n",
        "             'Cosme Velho':[-22.5634, -43.1200],\r\n",
        "             'Jardim América':[-22.8115, -43.3207],\r\n",
        "             'Caju':[-22.8799,-43.2264],\r\n",
        "             'Mangueira':[-22.9053,-43.5340],\r\n",
        "             'Magé':[-22.6566,-43.0398],\r\n",
        "             'Centro':[-22.9071,-43.1819],\r\n",
        "             'Glória':[-22.9204,-43.1745],\r\n",
        "             'Cavalcanti':[-22.8699,-43.3161],\r\n",
        "             'Quintino':[-22.8876,-43.3192],\r\n",
        "             'Jacarezinho':[-22.8876,-43.2582],\r\n",
        "             'Engenho da Rainha':[-22.5147,-43.1744],\r\n",
        "             'Complexo da Maré':[-22.8554,-43.2422],\r\n",
        "             'Penha':[-22.8372,-43.2774],\r\n",
        "             'Mesquita':[-22.7819,-43.4293],\r\n",
        "             'Morro do Estado':[-22.8990,-43.1193],\r\n",
        "             'Praça da Bandeira':[-22.9102,-43.2122],\r\n",
        "             'Vila Isabel':[-22.9166,-43.2502],\r\n",
        "             'Complexo da Penha':[-22.5100, -43.1900],\r\n",
        "             'Santa Teresa':[-22.9163,-43.1916],\r\n",
        "             'Cordovil':[-22.8234,-43.2959],\r\n",
        "             'Manguinhos':[-22.8830,-43.2458],\r\n",
        "             'Anchieta':[-22.8208,-43.3969],\r\n",
        "             'Cidade de Deus':[-22.9465,-43.3697],\r\n",
        "             'Bonsucesso':[-22.8627,-43.2540],\r\n",
        "             'Grajaú':[-22.9237,-43.2585],\r\n",
        "             'Engenheiro Pedreira':[-22.6783,-43.6063],\r\n",
        "             'Caxias':[-22.7863,-43.6053],\r\n",
        "             'Copacabana':[-22.9694,-43.1868],\r\n",
        "             'Laranjeiras':[-22.9332,-43.1847],\r\n",
        "             'Tijuca':[-22.9326,-43.2410],\r\n",
        "             'Magalhães Bastos':[-22.8718,-43.4139],\r\n",
        "             'Santo Cristo':[-22.8996,-43.2014],\r\n",
        "             'Irajá':[-22.8443,-43.3232],\r\n",
        "             'Estácio':[-22.9174,-43.2050],\r\n",
        "             'Benfica':[-22.8942,-43.2391],\r\n",
        "             'Vasco da Gama':[-22.8910,-43.2268],\r\n",
        "             'Cidade Universitária':[-22.8627,-43.2259],\r\n",
        "             'Penha Circular':[-22.8393,-43.2914],\r\n",
        "             'Niterói':[-22.8859,-43.1153],\r\n",
        "             'Complexo do Lins':[-22.5452,-43.1658],\r\n",
        "             'Macaé':[-22.3234,-41.9593],\r\n",
        "             'Ilha do Governador':[-22.8052,-43.2086],\r\n",
        "             'Catete':[-22.9280,-43.1808],\r\n",
        "             'Pavuna':[-22.8122,-43.3620],\r\n",
        "             'Engenho Novo':[-22.9081,-43.2678],\r\n",
        "             'Campinho':[-22.8856,-43.3481],\r\n",
        "             'São Francisco Xavier':[-22.5412,-43.1436],\r\n",
        "             'Jacaré':[-22.8923,-43.2582],\r\n",
        "             'Vaz Lobo':[-22.5133,-43.1944],\r\n",
        "             'Realengo':[-22.8787,-43.4285],\r\n",
        "             'Itaguaí':[-22.8632,-43.7779],\r\n",
        "             'Nova Iguaçu':[-22.7561,-43.4607],\r\n",
        "             'Providência':[-22.5403,-41.1147],\r\n",
        "             'São João de Meriti':[-22.7908,-43.3699],\r\n",
        "             'Vila Cruzeiro':[-22.8502,-43.2812],\r\n",
        "             'Taquara':[-22.9230,-43.3740],\r\n",
        "             'Encantado':[-22.8960,-43.3022],\r\n",
        "             'Nilópolis':[-22.8098,-43.4194],\r\n",
        "             'Maricá':[-22.9161,-42.8192],\r\n",
        "             'Recreio':[-23.0175,-43.4626],\r\n",
        "             'Botafogo':[-22.9512,-43.1808],\r\n",
        "             'Bancários':[-22.7910,-43.1809],\r\n",
        "             'Cachambi':[-22.8900,-43.2736],\r\n",
        "             'Lins de Vasconcelos':[-22.5448,-43.1705],\r\n",
        "             'Arraial do Cabo':[-22.9673,-42.0268],\r\n",
        "             'Tanguá':[-22.7428,-42.7206],\r\n",
        "             'Rocha Miranda':[-22.8521,-43.3468],\r\n",
        "             'Santa Marta':[-22.5661,-43.1138],\r\n",
        "             'Del Castilho':[-22.8804,-43.2690],\r\n",
        "             'Guadalupe':[-22.8401,-43.3781],\r\n",
        "             'Ingá':[-22.9038,-43.1222],\r\n",
        "             'Lins':[-22.5452,-43.1658],\r\n",
        "             'Rio das Ostras':[-22.5273,-41.9464],\r\n",
        "             'Freguesia':[-22.9383,-43.3408],\r\n",
        "             'Conceição de Macabu':[-22.0839,-41.8723],\r\n",
        "             'Pechincha':[-22.9289,-43.3542],\r\n",
        "             'Barra Mansa':[-22.5409,-44.1773],\r\n",
        "             'Itatiaia':[-22.4913,-44.5721],\r\n",
        "             'Ilha Grande':[-23.1521,-44.2289],\r\n",
        "             'São Cristóvão':[-22.8996,-43.2227],\r\n",
        "             'Tomás Coelho':[-22.8682,-43.3044],\r\n",
        "             'Ramos':[-22.8503,-43.2566],\r\n",
        "             'Honório Gurgel':[-22.8454,-43.3547],\r\n",
        "             'Lagoa':[-22.9621,-43.2077],\r\n",
        "             'Campo Grande':[-22.9077,-43.5659],\r\n",
        "             'Galeão':[-22.8171,-43.2278],\r\n",
        "             'Tanque':[-22.9183,-43.3609],\r\n",
        "             'Méier':[-22.9022,-43.2803],\r\n",
        "             'Bangu':[-22.8742,-43.4685],\r\n",
        "             'Água Santa':[-22.9056,-43.3082],\r\n",
        "             'Vicente de Carvalho':[-22.8558,-43.3158]}"
      ],
      "execution_count": 95,
      "outputs": []
    },
    {
      "cell_type": "code",
      "metadata": {
        "id": "DBlj9iwpUxxe"
      },
      "source": [
        "df_final = df_out.copy()"
      ],
      "execution_count": 96,
      "outputs": []
    },
    {
      "cell_type": "code",
      "metadata": {
        "id": "bFXBFSv-WKOW"
      },
      "source": [
        "df_final['lat'] = df_final['content'].apply(lambda x: locations[x][0])\r\n",
        "df_final['lon'] = df_final['content'].apply(lambda x: locations[x][1])\r\n",
        "counts = df_final['content'].value_counts()\r\n",
        "df_final['size'] = df_final['content'].apply(lambda x: counts[x])"
      ],
      "execution_count": 122,
      "outputs": []
    },
    {
      "cell_type": "code",
      "metadata": {
        "id": "ocNgjBWch-iB"
      },
      "source": [
        "counts = df_final['content'].value_counts()"
      ],
      "execution_count": 123,
      "outputs": []
    },
    {
      "cell_type": "code",
      "metadata": {
        "colab": {
          "base_uri": "https://localhost:8080/",
          "height": 194
        },
        "id": "PDTAGu8pU-K9",
        "outputId": "2052aeef-e8c8-47c4-a5db-0ea29fd11ec6"
      },
      "source": [
        "df_final.head()"
      ],
      "execution_count": 124,
      "outputs": [
        {
          "output_type": "execute_result",
          "data": {
            "text/html": [
              "<div>\n",
              "<style scoped>\n",
              "    .dataframe tbody tr th:only-of-type {\n",
              "        vertical-align: middle;\n",
              "    }\n",
              "\n",
              "    .dataframe tbody tr th {\n",
              "        vertical-align: top;\n",
              "    }\n",
              "\n",
              "    .dataframe thead th {\n",
              "        text-align: right;\n",
              "    }\n",
              "</style>\n",
              "<table border=\"1\" class=\"dataframe\">\n",
              "  <thead>\n",
              "    <tr style=\"text-align: right;\">\n",
              "      <th></th>\n",
              "      <th>date</th>\n",
              "      <th>content</th>\n",
              "      <th>id</th>\n",
              "      <th>lat</th>\n",
              "      <th>lon</th>\n",
              "      <th>size</th>\n",
              "    </tr>\n",
              "  </thead>\n",
              "  <tbody>\n",
              "    <tr>\n",
              "      <th>0</th>\n",
              "      <td>2021-01-24 13:08:29</td>\n",
              "      <td>Pilares</td>\n",
              "      <td>1353328823266398216</td>\n",
              "      <td>-22.8814</td>\n",
              "      <td>-43.2835</td>\n",
              "      <td>3</td>\n",
              "    </tr>\n",
              "    <tr>\n",
              "      <th>1</th>\n",
              "      <td>2021-01-24 03:27:35</td>\n",
              "      <td>Rio Comprido</td>\n",
              "      <td>1353182632897622017</td>\n",
              "      <td>-22.9252</td>\n",
              "      <td>-43.2053</td>\n",
              "      <td>14</td>\n",
              "    </tr>\n",
              "    <tr>\n",
              "      <th>2</th>\n",
              "      <td>2021-01-24 03:22:18</td>\n",
              "      <td>Piedade</td>\n",
              "      <td>1353181303441682438</td>\n",
              "      <td>-22.8963</td>\n",
              "      <td>-43.3127</td>\n",
              "      <td>4</td>\n",
              "    </tr>\n",
              "    <tr>\n",
              "      <th>4</th>\n",
              "      <td>2021-01-23 06:51:57</td>\n",
              "      <td>Andaraí</td>\n",
              "      <td>1352871674924957696</td>\n",
              "      <td>-22.9260</td>\n",
              "      <td>-43.2487</td>\n",
              "      <td>31</td>\n",
              "    </tr>\n",
              "    <tr>\n",
              "      <th>5</th>\n",
              "      <td>2021-01-23 06:29:29</td>\n",
              "      <td>Andaraí</td>\n",
              "      <td>1352866024119529472</td>\n",
              "      <td>-22.9260</td>\n",
              "      <td>-43.2487</td>\n",
              "      <td>31</td>\n",
              "    </tr>\n",
              "  </tbody>\n",
              "</table>\n",
              "</div>"
            ],
            "text/plain": [
              "                  date       content  ...      lon  size\n",
              "0  2021-01-24 13:08:29       Pilares  ... -43.2835     3\n",
              "1  2021-01-24 03:27:35  Rio Comprido  ... -43.2053    14\n",
              "2  2021-01-24 03:22:18       Piedade  ... -43.3127     4\n",
              "4  2021-01-23 06:51:57       Andaraí  ... -43.2487    31\n",
              "5  2021-01-23 06:29:29       Andaraí  ... -43.2487    31\n",
              "\n",
              "[5 rows x 6 columns]"
            ]
          },
          "metadata": {
            "tags": []
          },
          "execution_count": 124
        }
      ]
    },
    {
      "cell_type": "markdown",
      "metadata": {
        "id": "KmSA_IUrPYKh"
      },
      "source": [
        "### **EDA**\r\n",
        "Simple EDA to try and understand our data a little bit better."
      ]
    },
    {
      "cell_type": "code",
      "metadata": {
        "id": "jqMAx3hCQC3L"
      },
      "source": [
        "import seaborn as sns\r\n",
        "import matplotlib.pyplot as plt"
      ],
      "execution_count": 99,
      "outputs": []
    },
    {
      "cell_type": "code",
      "metadata": {
        "id": "lKLmsDIZPe60"
      },
      "source": [
        "value_counts = df_final['content'].value_counts()\r\n",
        "value_counts = value_counts[:10]"
      ],
      "execution_count": 112,
      "outputs": []
    },
    {
      "cell_type": "code",
      "metadata": {
        "colab": {
          "base_uri": "https://localhost:8080/",
          "height": 473
        },
        "id": "lDequXIQRwgK",
        "outputId": "10a1ed23-cf25-401f-f808-230edd92acdc"
      },
      "source": [
        "plt.figure(figsize=(12,6))\r\n",
        "plt.xticks(rotation=45)\r\n",
        "sns.set(style=\"whitegrid\")\r\n",
        "ax = sns.barplot(x=value_counts.index, y=value_counts).set_title('Tweets por local')"
      ],
      "execution_count": 113,
      "outputs": [
        {
          "output_type": "display_data",
          "data": {
            "image/png": "[encoded data removed]",
            "text/plain": [
              "<Figure size 864x432 with 1 Axes>"
            ]
          },
          "metadata": {
            "tags": []
          }
        }
      ]
    },
    {
      "cell_type": "code",
      "metadata": {
        "colab": {
          "base_uri": "https://localhost:8080/",
          "height": 495
        },
        "id": "pJFaWec5dcs1",
        "outputId": "8d2cf3e9-91b9-4683-9243-a7d8cb6ad895"
      },
      "source": [
        "sns.set(style=\"white\")\r\n",
        "plt.figure(figsize=(12,8))\r\n",
        "ax = sns.scatterplot(x='lat', y='lon', data=df_final, alpha=0.5, palette='muted', size='size',\r\n",
        "                     sizes=(40,300))"
      ],
      "execution_count": 127,
      "outputs": [
        {
          "output_type": "display_data",
          "data": {
            "image/png": "[encoded data removed]",
            "text/plain": [
              "<Figure size 864x576 with 1 Axes>"
            ]
          },
          "metadata": {
            "tags": []
          }
        }
      ]
    },
    {
      "cell_type": "markdown",
      "metadata": {
        "id": "Zdn19hN50gC3"
      },
      "source": [
        "### **Deprecated code**"
      ]
    },
    {
      "cell_type": "code",
      "metadata": {
        "id": "21I9WIm3dYFz",
        "colab": {
          "base_uri": "https://localhost:8080/",
          "height": 583
        },
        "outputId": "cbe0cfd9-0ce7-44d2-9de5-4f43392f7732"
      },
      "source": [
        "df_work = pd.DataFrame()\r\n",
        "df_work['Place'] = df_out['Place']\r\n",
        "df_work = pd.concat([df_work, df_out2, df_out3])\r\n",
        "df_work['date'] = df['date'].iloc[df_work.index.values.tolist()]\r\n",
        "df_work = df_work.reset_index(drop=True)"
      ],
      "execution_count": null,
      "outputs": [
        {
          "output_type": "error",
          "ename": "KeyError",
          "evalue": "ignored",
          "traceback": [
            "\u001b[0;31m---------------------------------------------------------------------------\u001b[0m",
            "\u001b[0;31mKeyError\u001b[0m                                  Traceback (most recent call last)",
            "\u001b[0;32m/usr/local/lib/python3.6/dist-packages/pandas/core/indexes/base.py\u001b[0m in \u001b[0;36mget_loc\u001b[0;34m(self, key, method, tolerance)\u001b[0m\n\u001b[1;32m   2897\u001b[0m             \u001b[0;32mtry\u001b[0m\u001b[0;34m:\u001b[0m\u001b[0;34m\u001b[0m\u001b[0;34m\u001b[0m\u001b[0m\n\u001b[0;32m-> 2898\u001b[0;31m                 \u001b[0;32mreturn\u001b[0m \u001b[0mself\u001b[0m\u001b[0;34m.\u001b[0m\u001b[0m_engine\u001b[0m\u001b[0;34m.\u001b[0m\u001b[0mget_loc\u001b[0m\u001b[0;34m(\u001b[0m\u001b[0mcasted_key\u001b[0m\u001b[0;34m)\u001b[0m\u001b[0;34m\u001b[0m\u001b[0;34m\u001b[0m\u001b[0m\n\u001b[0m\u001b[1;32m   2899\u001b[0m             \u001b[0;32mexcept\u001b[0m \u001b[0mKeyError\u001b[0m \u001b[0;32mas\u001b[0m \u001b[0merr\u001b[0m\u001b[0;34m:\u001b[0m\u001b[0;34m\u001b[0m\u001b[0;34m\u001b[0m\u001b[0m\n",
            "\u001b[0;32mpandas/_libs/index.pyx\u001b[0m in \u001b[0;36mpandas._libs.index.IndexEngine.get_loc\u001b[0;34m()\u001b[0m\n",
            "\u001b[0;32mpandas/_libs/index.pyx\u001b[0m in \u001b[0;36mpandas._libs.index.IndexEngine.get_loc\u001b[0;34m()\u001b[0m\n",
            "\u001b[0;32mpandas/_libs/hashtable_class_helper.pxi\u001b[0m in \u001b[0;36mpandas._libs.hashtable.PyObjectHashTable.get_item\u001b[0;34m()\u001b[0m\n",
            "\u001b[0;32mpandas/_libs/hashtable_class_helper.pxi\u001b[0m in \u001b[0;36mpandas._libs.hashtable.PyObjectHashTable.get_item\u001b[0;34m()\u001b[0m\n",
            "\u001b[0;31mKeyError\u001b[0m: 'Place'",
            "\nThe above exception was the direct cause of the following exception:\n",
            "\u001b[0;31mKeyError\u001b[0m                                  Traceback (most recent call last)",
            "\u001b[0;32m<ipython-input-11-70c3e96bae41>\u001b[0m in \u001b[0;36m<module>\u001b[0;34m()\u001b[0m\n\u001b[1;32m      1\u001b[0m \u001b[0mdf_work\u001b[0m \u001b[0;34m=\u001b[0m \u001b[0mpd\u001b[0m\u001b[0;34m.\u001b[0m\u001b[0mDataFrame\u001b[0m\u001b[0;34m(\u001b[0m\u001b[0;34m)\u001b[0m\u001b[0;34m\u001b[0m\u001b[0;34m\u001b[0m\u001b[0m\n\u001b[0;32m----> 2\u001b[0;31m \u001b[0mdf_work\u001b[0m\u001b[0;34m[\u001b[0m\u001b[0;34m'Place'\u001b[0m\u001b[0;34m]\u001b[0m \u001b[0;34m=\u001b[0m \u001b[0mdf_out\u001b[0m\u001b[0;34m[\u001b[0m\u001b[0;34m'Place'\u001b[0m\u001b[0;34m]\u001b[0m\u001b[0;34m\u001b[0m\u001b[0;34m\u001b[0m\u001b[0m\n\u001b[0m\u001b[1;32m      3\u001b[0m \u001b[0mdf_work\u001b[0m \u001b[0;34m=\u001b[0m \u001b[0mpd\u001b[0m\u001b[0;34m.\u001b[0m\u001b[0mconcat\u001b[0m\u001b[0;34m(\u001b[0m\u001b[0;34m[\u001b[0m\u001b[0mdf_work\u001b[0m\u001b[0;34m,\u001b[0m \u001b[0mdf_out2\u001b[0m\u001b[0;34m,\u001b[0m \u001b[0mdf_out3\u001b[0m\u001b[0;34m]\u001b[0m\u001b[0;34m)\u001b[0m\u001b[0;34m\u001b[0m\u001b[0;34m\u001b[0m\u001b[0m\n\u001b[1;32m      4\u001b[0m \u001b[0mdf_work\u001b[0m\u001b[0;34m[\u001b[0m\u001b[0;34m'date'\u001b[0m\u001b[0;34m]\u001b[0m \u001b[0;34m=\u001b[0m \u001b[0mdf\u001b[0m\u001b[0;34m[\u001b[0m\u001b[0;34m'date'\u001b[0m\u001b[0;34m]\u001b[0m\u001b[0;34m.\u001b[0m\u001b[0miloc\u001b[0m\u001b[0;34m[\u001b[0m\u001b[0mdf_work\u001b[0m\u001b[0;34m.\u001b[0m\u001b[0mindex\u001b[0m\u001b[0;34m.\u001b[0m\u001b[0mvalues\u001b[0m\u001b[0;34m.\u001b[0m\u001b[0mtolist\u001b[0m\u001b[0;34m(\u001b[0m\u001b[0;34m)\u001b[0m\u001b[0;34m]\u001b[0m\u001b[0;34m\u001b[0m\u001b[0;34m\u001b[0m\u001b[0m\n\u001b[1;32m      5\u001b[0m \u001b[0mdf_work\u001b[0m \u001b[0;34m=\u001b[0m \u001b[0mdf_work\u001b[0m\u001b[0;34m.\u001b[0m\u001b[0mreset_index\u001b[0m\u001b[0;34m(\u001b[0m\u001b[0mdrop\u001b[0m\u001b[0;34m=\u001b[0m\u001b[0;32mTrue\u001b[0m\u001b[0;34m)\u001b[0m\u001b[0;34m\u001b[0m\u001b[0;34m\u001b[0m\u001b[0m\n",
            "\u001b[0;32m/usr/local/lib/python3.6/dist-packages/pandas/core/frame.py\u001b[0m in \u001b[0;36m__getitem__\u001b[0;34m(self, key)\u001b[0m\n\u001b[1;32m   2904\u001b[0m             \u001b[0;32mif\u001b[0m \u001b[0mself\u001b[0m\u001b[0;34m.\u001b[0m\u001b[0mcolumns\u001b[0m\u001b[0;34m.\u001b[0m\u001b[0mnlevels\u001b[0m \u001b[0;34m>\u001b[0m \u001b[0;36m1\u001b[0m\u001b[0;34m:\u001b[0m\u001b[0;34m\u001b[0m\u001b[0;34m\u001b[0m\u001b[0m\n\u001b[1;32m   2905\u001b[0m                 \u001b[0;32mreturn\u001b[0m \u001b[0mself\u001b[0m\u001b[0;34m.\u001b[0m\u001b[0m_getitem_multilevel\u001b[0m\u001b[0;34m(\u001b[0m\u001b[0mkey\u001b[0m\u001b[0;34m)\u001b[0m\u001b[0;34m\u001b[0m\u001b[0;34m\u001b[0m\u001b[0m\n\u001b[0;32m-> 2906\u001b[0;31m             \u001b[0mindexer\u001b[0m \u001b[0;34m=\u001b[0m \u001b[0mself\u001b[0m\u001b[0;34m.\u001b[0m\u001b[0mcolumns\u001b[0m\u001b[0;34m.\u001b[0m\u001b[0mget_loc\u001b[0m\u001b[0;34m(\u001b[0m\u001b[0mkey\u001b[0m\u001b[0;34m)\u001b[0m\u001b[0;34m\u001b[0m\u001b[0;34m\u001b[0m\u001b[0m\n\u001b[0m\u001b[1;32m   2907\u001b[0m             \u001b[0;32mif\u001b[0m \u001b[0mis_integer\u001b[0m\u001b[0;34m(\u001b[0m\u001b[0mindexer\u001b[0m\u001b[0;34m)\u001b[0m\u001b[0;34m:\u001b[0m\u001b[0;34m\u001b[0m\u001b[0;34m\u001b[0m\u001b[0m\n\u001b[1;32m   2908\u001b[0m                 \u001b[0mindexer\u001b[0m \u001b[0;34m=\u001b[0m \u001b[0;34m[\u001b[0m\u001b[0mindexer\u001b[0m\u001b[0;34m]\u001b[0m\u001b[0;34m\u001b[0m\u001b[0;34m\u001b[0m\u001b[0m\n",
            "\u001b[0;32m/usr/local/lib/python3.6/dist-packages/pandas/core/indexes/base.py\u001b[0m in \u001b[0;36mget_loc\u001b[0;34m(self, key, method, tolerance)\u001b[0m\n\u001b[1;32m   2898\u001b[0m                 \u001b[0;32mreturn\u001b[0m \u001b[0mself\u001b[0m\u001b[0;34m.\u001b[0m\u001b[0m_engine\u001b[0m\u001b[0;34m.\u001b[0m\u001b[0mget_loc\u001b[0m\u001b[0;34m(\u001b[0m\u001b[0mcasted_key\u001b[0m\u001b[0;34m)\u001b[0m\u001b[0;34m\u001b[0m\u001b[0;34m\u001b[0m\u001b[0m\n\u001b[1;32m   2899\u001b[0m             \u001b[0;32mexcept\u001b[0m \u001b[0mKeyError\u001b[0m \u001b[0;32mas\u001b[0m \u001b[0merr\u001b[0m\u001b[0;34m:\u001b[0m\u001b[0;34m\u001b[0m\u001b[0;34m\u001b[0m\u001b[0m\n\u001b[0;32m-> 2900\u001b[0;31m                 \u001b[0;32mraise\u001b[0m \u001b[0mKeyError\u001b[0m\u001b[0;34m(\u001b[0m\u001b[0mkey\u001b[0m\u001b[0;34m)\u001b[0m \u001b[0;32mfrom\u001b[0m \u001b[0merr\u001b[0m\u001b[0;34m\u001b[0m\u001b[0;34m\u001b[0m\u001b[0m\n\u001b[0m\u001b[1;32m   2901\u001b[0m \u001b[0;34m\u001b[0m\u001b[0m\n\u001b[1;32m   2902\u001b[0m         \u001b[0;32mif\u001b[0m \u001b[0mtolerance\u001b[0m \u001b[0;32mis\u001b[0m \u001b[0;32mnot\u001b[0m \u001b[0;32mNone\u001b[0m\u001b[0;34m:\u001b[0m\u001b[0;34m\u001b[0m\u001b[0;34m\u001b[0m\u001b[0m\n",
            "\u001b[0;31mKeyError\u001b[0m: 'Place'"
          ]
        }
      ]
    },
    {
      "cell_type": "code",
      "metadata": {
        "id": "Gt1TaBprjfqR"
      },
      "source": [
        "df_work['Place'] = df_work['Place'].str.replace(r\"^\\s\", \"\") #replaces blank space ahead\r\n",
        "df_work['Place'] = df_work['Place'].str.replace(r\"\\s$\", \"\") #replaces blank space at the end or dot\r\n",
        "df_work['Place'] = df_work['Place'].apply(lambda x: x.split(\"(\")[0] if \"(\" in x else x) #removes everything after \"(\"\r\n",
        "df_work['Place'] = df_work['Place'].apply(lambda x: x.split(\"-\")[0] if \"-\" in x else x) #removes everything after \"-\"\r\n",
        "df_work['Place'] = df_work['Place'].apply(lambda x: x.split(\"/\")[0] if \"/\" in x else x) #removes everything after \"/\"\r\n",
        "df_work['Place'] = df_work['Place'].apply(lambda x: x.split(\".\")[0] if \".\" in x else x) #removes everything after \".\""
      ],
      "execution_count": null,
      "outputs": []
    },
    {
      "cell_type": "code",
      "metadata": {
        "colab": {
          "base_uri": "https://localhost:8080/"
        },
        "id": "eykh6NtejrDt",
        "outputId": "4b6de4cf-4330-4564-b2a8-0a125f3f3a0d"
      },
      "source": [
        "df_work['Place'].unique()"
      ],
      "execution_count": null,
      "outputs": [
        {
          "output_type": "execute_result",
          "data": {
            "text/plain": [
              "array(['Pilares', 'Rio Comprido', 'Piedade', 'Andaraí', 'Praça Seca',\n",
              "       'Cascadura', 'Belford Roxo', 'Brás de Pina', 'Maré',\n",
              "       'Duque de Caxias', 'Quintino Bocaiuva', 'Senador Camará',\n",
              "       'Catumbi', 'Complexo do Alemão', 'Madureira', 'Costa Barros',\n",
              "       'Vila Kennedy', 'Leme', 'Angra dos Reis', 'São Gonçalo', 'Japeri',\n",
              "       'Cosme Velho', 'Jardim América', 'Caju', 'Mangueira', 'Magé',\n",
              "       'Centro', 'Cosme Velho ', 'Glória', 'Piedade ', 'Belford Roxo ',\n",
              "       'Costa Barros ', 'Madureira ', 'Complexo do Alemão ', 'Cavalcanti',\n",
              "       'Quintino', 'Jacarezinho', 'São Gonçalo ', 'Engenho da Rainha',\n",
              "       'Complexo da Maré', 'Penha ', 'Mesquita ', 'Morro do Estado',\n",
              "       'Praça da Bandeira', 'Vila Isabel', 'Complexo da Penha',\n",
              "       'Santa Teresa ', 'Cordovil', 'Manguinhos', 'Anchieta',\n",
              "       'Cidade de Deus', 'Penha', 'Bonsucesso', 'Grajaú',\n",
              "       'Belford Roxo  ', 'Engenheiro Pedreira ', 'Senador Camará  ',\n",
              "       'Vila Kennedy ', 'Caxias', 'Copacabana', 'Mesquita', 'Laranjeiras',\n",
              "       'Tijuca', 'Magalhães Bastos', 'Santo Cristo', 'Irajá', 'Estácio',\n",
              "       'Benfica', 'Vasco da Gama', 'Cidade Universitária',\n",
              "       'Penha Circular', 'Niterói', 'Complexo do Lins', 'Andaraí, Tijuca',\n",
              "       'Macaé', 'Ilha do Governador', 'Catete', 'Pavuna', 'Engenho Novo',\n",
              "       'Campinho', 'São Francisco Xavier', 'Jacaré', 'Vaz Lobo',\n",
              "       'Realengo', 'Itaguaí', 'Nova Iguaçu', 'Santa Teresa',\n",
              "       'Providência', 'São João de Meriti', 'Vila Cruzeiro', 'Andaraí ',\n",
              "       'Centro Rio de Jan… https:', 'Taquara', 'Encantado', 'Bancários',\n",
              "       'Complexo da Maré Rio de J… https:', '', 'Botafogo', 'Recreio',\n",
              "       'Maricá', 'Nilópolis', 'Cachambi', 'Lins de Vasconcelos',\n",
              "       'Arraial do Cabo', 'Tanguá', 'Rocha Miranda',\n",
              "       'São João de Meriti ', 'Santa Marta ', 'Del Castilho',\n",
              "       'Complexo da Penha ', 'Cordovil e Parada de Lucas', 'Guadalupe',\n",
              "       'Ingá', 'Lins', 'Rio das Ostras', 'Freguesia',\n",
              "       'Conceição de Macabu', 'Pechincha', 'Barra Mansa', 'Itatiaia',\n",
              "       'Ilha Grande', 'São Cristóvão', 'Tomás Coelho', 'Ramos',\n",
              "       'Honório Gurgel', 'Lagoa', 'Campo Grande', 'Galeão', 'Tanque',\n",
              "       'Vicente de Carvalho', 'Água Santa', 'Bangu', 'Méier',\n",
              "       'Estrada do Camboatá em Costa Barros', 'Resende',\n",
              "       'Cobal próximo ao UPA de Manguinhos', 'praça da Vila Kennedy',\n",
              "       'Vila kennedy', 'Comendador Soares', 'Padre Miguel',\n",
              "       'Cidade Alta em Cordovil', 'comunidade do Jacarezinho',\n",
              "       'Serra Grajaú x Jpa', 'Cabo Frio', 'cidade de Deus',\n",
              "       'Vila Pauline e Santa Marta em Belford Roxo', 'Rocinha',\n",
              "       'Vila Pauline em Belford Roxo',\n",
              "       'região entre Cidade Alta e Beira Pica Pau em Cordovil',\n",
              "       'Comunidade de Manguinhos', 'Volta Redonda',\n",
              "       'esquina das Ruas Afonso Pena com Mariz e Barros no Maracanã',\n",
              "       'Vila Cruzeiro no Complexo da Penha', 'Angra', 'Queimados',\n",
              "       'Honório Gurgel nas proximidades da Rua Ururaí e Estrada João Paulo',\n",
              "       'Araruama', 'Avenida Brasil', 'Inhaúma',\n",
              "       'São Pedro da Aldeia Travessa Francisco Viana',\n",
              "       'divisa entre Nova Holanda e Baixa do Sapateiro no Complexo da Maré',\n",
              "       'Realengo na comunidade Minha Deusa',\n",
              "       'Senador Camará próximo à Praça do 389', 'Jacarepaguá', 'Quatis',\n",
              "       'Comunidade Pára Pedro em Colégio',\n",
              "       'São Gonçalo no bairro Almerinda',\n",
              "       'Linha Vermelha próximo à alça de acesso à Linha Amarela',\n",
              "       'Rua Marquês de Muritiba na Ilha do Governador',\n",
              "       'Vila Aliança em Bangu', 'São Pedro da Aldeia',\n",
              "       'Comunidade da Vila Miséria ',\n",
              "       'Barreira do Vasco em São Cristóvão',\n",
              "       'Vila Kennedy localidades Leão e Progresso',\n",
              "       'alguns pontos da parte alta da Vila Kennedy',\n",
              "       'parte alta da comunidade da Barão na Praça Seca', 'Av',\n",
              "       'Manguinhos na comunidade Mandela 2',\n",
              "       'Manguinhos próximo à Clínica Victor Valla',\n",
              "       'Benfica na antiga fábrica da CCPL',\n",
              "       'São Gonçalo nas proximidades do DPO de Santa Luzia',\n",
              "       'Madureira na Comunidade da Patolinha',\n",
              "       'Cavalcanti no  final da Rua Laurindo Filho',\n",
              "       'Pedra do Sapo no Complexo do Alemão', 'Triagem',\n",
              "       'Senador Camará próximo à Estrada do Taquaral',\n",
              "       'São João da Barra', 'Tijuca Turano', 'Taquara no Jordão',\n",
              "       'Rua Clarimundo de Melo altura da Rua Souto em Quintino Bocaiuva',\n",
              "       'um bar no centro de Belford Roxo', 'Maria da Graça', 'Quissamã',\n",
              "       'Nova Aurora', 'Comunidade do Lixo em Manoel Correa', 'Três Rios',\n",
              "       'Guacha em Belford Roxo próximo ao Centro Comunitário',\n",
              "       'Comunidade do Caramujo em Niterói',\n",
              "       'Comunidade do 777 em Padre Miguel', 'Bangu na Comunidade do 48',\n",
              "       'Rua Olivia Lopes próximo ao Campo Novo em São Gonçalo', 'Gamboa',\n",
              "       'rua Barros Peixoto na Jacutinga em Mesquita',\n",
              "       'estação de trem de Del Castilho',\n",
              "       'Belford Roxo nas localidades Bairro 13',\n",
              "       'Estrada do Camboatá na altura do Bicão em Guadalupe',\n",
              "       'Cachoeira de Macacu',\n",
              "       'Visconde de Niterói na altura da Quadra da Mangueira',\n",
              "       'Saquarema', 'Realengo na localidade Jardim Novo',\n",
              "       'Comunidade do 48 em Bangu', 'Chatuba de Mesquita',\n",
              "       'Comunidade da Ficap no Jardim América',\n",
              "       'Lemos de Brito em Quintino Bocaiuva',\n",
              "       'Rua Ibiapina em Olaria na altura do BRT Ibiapina',\n",
              "       'Rua Lambari no Morro da Serrinha em Madureira',\n",
              "       'Comunidade da Light em Realengo',\n",
              "       'Vila Isabel próximos ao Túnel Noel Rosa',\n",
              "       'Santa Marta em Belford Roxo', 'Comunidade de Acari', 'Gramacho',\n",
              "       'Vila Centenário em Duque de Caxias',\n",
              "       'Sapinhatuba 2 em Angra dos Reis',\n",
              "       'Rua André Cavalcanti na Lapa próximos ao Sindicato dos Vigilantes',\n",
              "       's proximidades do metrô colégio',\n",
              "       's Comunidades 48 e Santo André em Bangu',\n",
              "       'Santíssimo e Senador Camará',\n",
              "       'Comunidade da Palmeirinha em Guadalupe',\n",
              "       'Rodovia Prefeito João Sampaio em Maria Paula',\n",
              "       'Vila Vintém em Padre Miguel', 'Comunidade do Batan em Realengo',\n",
              "       'Comunidade 5 Bocas em Brás de Pina',\n",
              "       'Comunidade Para Pedro em Colégio',\n",
              "       'Comunidade 77 em Padre Miguel', 'Comunidade do Rato Molhado ',\n",
              "       'Grota', 'comunidade Furquim Mendes em Jardim América',\n",
              "       'Comunidade Parque Alegria no Complexo do Caju',\n",
              "       'Sapinhatuba 3 em Angra dos Reis', 'Chatuba no Complexo da Penha',\n",
              "       'Comunidade Menino de Deus em São Gonçalo', 'Boa Vista',\n",
              "       'Comunidade 2 de Maio ', 'Comunidade Boca do Mato em Cabo Frio',\n",
              "       'Rua Getúlio altura de Rua Padre Ildefonso Penalba em Todos os Santos',\n",
              "       'Bangu nas comunidades do 48 e Santo André',\n",
              "       'Rua Conde de Baependi esquina com Travessa Eurícles de Matos em Laranjeir… https:',\n",
              "       'Rua Marquês de Valença na Tijuca na altura do Restaurante La Mole',\n",
              "       'Acari', 'Comunidade do Chapéu Mangueira no Leme',\n",
              "       'Parada de Lucas', 'Belfod Roxo na Vila Pauline',\n",
              "       'parte alta do Morro da Formiga na Tijuca',\n",
              "       'Penha na Rua Cuba entre Av', 'Nova Friburgo', 'Saúde',\n",
              "       'Rua Maurício de Abreu em Duque de Caxias próximo à Comunidade Vila Operár… https:',\n",
              "       'Búzios', 'Comunidade Buraco do Boi no Barreto em Niterói',\n",
              "       'Santa Cruz próximo ao Rollas',\n",
              "       'São Cristóvão próximo ao Largo do Pedregulho',\n",
              "       'divisa dos Morros São João e Macacos no Engenho Novo',\n",
              "       'Sao Gonçalo', 'Rocinha próximo a Biblioteca na Estrada da Gávea',\n",
              "       'parte alta do Morro do Jordão na Taquara em Jacarepaguá',\n",
              "       \"Caixa d'Água no Complexo da Penha\",\n",
              "       'Comunidade do Lixão em Duque de Caxias',\n",
              "       'Benfica no Parque Arará',\n",
              "       'Vila Pauline em Belford Roxo próximo ao mercado Nahide',\n",
              "       'Copacabana na Nossa Senhora agora com Belfort Roxo',\n",
              "       'Santa Amélia', 'Jardim Anápolis no Bom Pastor em Belford Roxo',\n",
              "       'Estrada dos Três Rios na Freguesia', 's proximidades da Av',\n",
              "       'Comunidade Souza Soares em Santa Rosa',\n",
              "       'comunidade Nova Grécia em São Gonçalo',\n",
              "       'área da Central do Brasil nas proximidades da Rua Barão de São Felix',\n",
              "       'Rua Coelho Branco no Jardim Redentor em Belford Roxo',\n",
              "       'Autoestrada Grajaú', 'Higienópolis', 'Pendotiba', 'Vila da Penha',\n",
              "       'Estrada do Camboatá em Barros Filho',\n",
              "       'comunidade do Sapo em Senador Camará',\n",
              "       'Maré na divisa com a Baixa do Sapateiro', 's ruas da Tijuca',\n",
              "       'Madureira e Vaz Lobo',\n",
              "       'Barão do Bom Retiro na altura do Supermercado Prix',\n",
              "       'Rua Getúlio na altura do 461 no Cachambi',\n",
              "       'Proença Rosa em Honório Gurgel', 'Vila Light',\n",
              "       'Quintino próximos à Igreja de São Jorge',\n",
              "       'Belford Roxo nas proximidades da das ruas Begônia e Vitória Régia no Jard… https:',\n",
              "       'comunidade Beira Mar em Duque de Caxias pela Rodovia Washington Luís atur… https:',\n",
              "       'Comunidade da Índia em São João de Meriti',\n",
              "       'Rua Coronel Moreira César',\n",
              "       'Curicica próximo ao BRT Arroio Pavuna',\n",
              "       'região dos Morros do Escondidinho e Fogueteiro',\n",
              "       'região central do Bom Pastor em Belford Roxo',\n",
              "       'Comunidade Santa Maria na Taquara em Jacarepaguá',\n",
              "       'Rodovia Presidente Dutra sentido São Paulo', 'contramão',\n",
              "       'complexo do Alemão', 'vários pontos do Complexo do Alemão',\n",
              "       'Subida para a Linha Amarela', 'Bento Ribeiro', 'a Linha Amarela',\n",
              "       'Riachuelo', 'as mesmas orientações de todos os anos', 'região',\n",
              "       'Morro da Serrinha', 'comunidade do Andaraí', 'Central do Brasil',\n",
              "       'Morro do Turano', 'Centro de Mesquita por conta de um assalto',\n",
              "       'Todos os Santos', 'Complexo da Alma',\n",
              "       'da Avenida Dom Hélder Câmara', 'do transtor', 'p… https:',\n",
              "       'Prezunic do Campinho', 'Comunidade da Coréia',\n",
              "       'Complexo do Chapadão hoje mais cedo', 'Complexo do Chapadão',\n",
              "       'de uma árvore caida por volta das 20:40h', 'Linha Amarela',\n",
              "       'Engenho de Dentro', 'Grande Tijuca! Está desaparecido desd…',\n",
              "       'Madureira e com continuidade sentido… https:', 'Brasil e',\n",
              "       'manhã de hoje', 'Caxias Shopping', 'Santa Crus',\n",
              "       'Morro da Formiga', 'Rocha', 'Complexo do Andaraí',\n",
              "       'parte alta do Morro do Vidigal', 'Rua Saçú', 'dia 29',\n",
              "       'Morro da Mangueira', 'vídeo dos tiros', 'Centro de Nova Iguaçu',\n",
              "       'várias p… https:', 'estação de tr', 'edifício Dolce Vita',\n",
              "       'sinal', 'Rua Professor Eurico Rabelo', 'muitas crianças',\n",
              "       'vários pontos do Rio de Janeiro e tiros', 'Complexodo do Lins',\n",
              "       'quinta', 'Rua Uberaba', 'mais um vídeo dos tiros',\n",
              "       'Avenida Pastor Martin Luther King Jr', 'vídeo da ocorrência',\n",
              "       'vídeo do \"rolézinho\" das quintas', 'um vídeo dos tiros',\n",
              "       'do Hemorio\\n\\nSeu bairro ainda não está por aí? Calma que sema… https:',\n",
              "       'vídeo sobre o arrastão', 'vídeo de um roubo',\n",
              "       'nosso aplicativo t', 'Rua General Roca',\n",
              "       'posto de Combustíveis Schell', 'precisa',\n",
              "       'com circulação suspensa entre Gramacho e Saracuru',\n",
              "       'aplicativo… https:', 'Morro da Mineira', 'o viaduto 31 de março',\n",
              "       'bairro do Cat… https:', 'Borges de Medeiros', 'tempo real',\n",
              "       'Campo da Comunidade J', 'por dentro das princi… https:',\n",
              "       'Brasil:\\n\\n1', 'mais', 'Infelizmente', 'Minas',\n",
              "       'tempo real são enviados pelo aplicativo com fotos do local',\n",
              "       'tempo real? Acessar vídeos e ajudar a con… https:', 'com Deus',\n",
              "       'tempo real ? Baixe nosso app:… https:', 'Rio de Janeiro',\n",
              "       'tempo real? Baixe o nosso aplicativo… https:',\n",
              "       'o app? Nosso app está funcionando bem', 'aplicativo Onde T',\n",
              "       'Washington Luiz às 20:30',\n",
              "       'notificação por região ou raio de ação por distância entre você e o alerta',\n",
              "       'nossos apps:\\n\\nIOS:\\n\\nhttps:', 'esqui', 'Morro dos Macacos',\n",
              "       'Complexo do Alemão desde 06:50h', 'Morro da Coca Cola',\n",
              "       'e Piedade', 'frente a saída da Game XP', 'é você',\n",
              "       'Complexo das Guindias', 'Morro do Tura', 'Morro da Chacrinha',\n",
              "       'Morro São João',\n",
              "       'Complexo do Lins próximo ao Hospital Marcílio Dias',\n",
              "       'Morro do Campinho', 'Serra Grajaú x Jacarepaguá',\n",
              "       \"Morro da Caixa d'água e Sereno\", \"Morro da Caixa d'água\",\n",
              "       'Morro do Sere', 'Morro da Fé', 'Piedade e Pilares',\n",
              "       'Ruas da Tijuca e Maracanã', 'Morro da Coroa',\n",
              "       'Morro do Juramento', 'Camorim Grande',\n",
              "       'Morro dos Cabritos e Tabajaras', 'Estrada da Barra da Tijuca',\n",
              "       'bairro de Colégio', 'acesso ao Morro do Sere', 'divisa',\n",
              "       'bairro do Rocha', 'Morro do 18', 'Comunidade do 48',\n",
              "       'distrito de Engenheiro Pedreira', 'Arquias Cordeiro',\n",
              "       'Senador Camará e Vila Aliança próximo à Estrada do Taquaral… https:',\n",
              "       'Vila Aliança', 'Morro da Primavera', 'Complexo do São Carlos',\n",
              "       'Supermercado Inter da Pavuna',\n",
              "       'Morro da Coroa pelo Beco da Chacrinha', 'Morro do Cavalão',\n",
              "       'Morro da Palmeira',\n",
              "       'Ilha do Governador pela Cacuia e Jardim Guanabar… https:',\n",
              "       'Barros Filho', 'Morro São Simão', 'Morro do Engenho da Rainha',\n",
              "       'Catumbi nas comunidades do Fallet e Fogueteiro e Coroa',\n",
              "       'Fallet e Fogueteiro', 'Morro do Vidigal hoje por volta de 08:20h',\n",
              "       'Cidade de Deus e agora às 09:06h novamente', 'Morro do Vidigal',\n",
              "       'Comunidade Pára', 'lixeira e outros objetos', 'Morro do Palácio',\n",
              "       'Morro 18', 'Rua Hom',\n",
              "       'Vila Isabel nas proximidades das Ruas Gonzaga Bastos',\n",
              "       'Morro Boa Vista', 'ocorrência de tiros agora há pouco',\n",
              "       'Complexo do Salgueiro', 'Vidigal', 'Catumbi e',\n",
              "       'Engenho da Rainha nas proximidades da Rua Campos Floridos',\n",
              "       'Jardim Gláucia', 'morro do Urubu', 'Miguel Salazar', 'CDD',\n",
              "       'Complexo de Santa Teresa', 'Complexo do Viradouro',\n",
              "       'Morro do Querosene', 'Complexo do Alemão aparentemente',\n",
              "       'Morro da Dita', 'Morro do Urubu',\n",
              "       'Morro do Urubu pelo lado da Rua Pequi', 'Miriambi',\n",
              "       'Catumbi nas localidades Fallet', 'Comunidade da Barão',\n",
              "       'Morro do Fubá', 'rede OTT e alcance 4 milhões de pessoas',\n",
              "       'Contramão', 'Pedra do Sapo', 'Morro da Lambicada', 'Morro Meni',\n",
              "       'Manguinhos agora', 'o vídeo', 'Morro do Borel', 'Linha Vermelha',\n",
              "       'Vigário Geral próximo à Ponte Verde',\n",
              "       'Bento Ribeiro nas proximidades do Colégio Santa Mônica',\n",
              "       'Centro de Niterói', 'Morro do Macuco', 'Laranjal', 'Pavão ',\n",
              "       'Morro do Guarabu', 'Morro do Dendê', 'Rua Silva Vale',\n",
              "       'Morro da Glória 2', 'Via Light altura do Cemitério de Mesquita',\n",
              "       'Arsenal', 'Quinti', 'Morro do Barbante ', 'de Belford Roxo',\n",
              "       'São Cristóvão agora há pouco', 'Serrinha', 'Bairro Carioca',\n",
              "       'ataque à agência do Banco do Brasil', 'o entor',\n",
              "       'Alameda São Boaventura ',\n",
              "       'Rua das Pacas próximo a Rua das Torres', 'Jockey Club',\n",
              "       'Bairro 13', 'Viaduto Engenheiro Alvari',\n",
              "       'Francisco Bicalho sentido Rodoviária Novo Rio na… https:',\n",
              "       'Esporte:\\n\\n23', 'Cachambi hoje de madruga',\n",
              "       'Alameda São Boaventura',\n",
              "       'Morro do 18 pelo lado da Torres de Oliveira', 'Jockey',\n",
              "       'Rua Salatiel', 'Rodovia Presidente Dutra', 'Belém',\n",
              "       'região da Mangueira próximo à Quadra', 'Ladeira do Faria… https:',\n",
              "       'Gogó da Ema de Belford Roxo', 'Morro do Barbante', 'Morro Do',\n",
              "       'Lojas Americanas da Taquara da Estrada dos Bandeir… https:',\n",
              "       'motos promoveram um arrastão à transeuntes',\n",
              "       'bairro Santo Cristo', 'Morro da Torre',\n",
              "       'alguns pontos da Vila Cruzeiro', 'Morro dos Prazeres',\n",
              "       'vários pontos da Vila Cruzeiro',\n",
              "       \"Morro do Urubu pelo lado da Rua Itália D'Incau\", 'Morro da Paz',\n",
              "       'São Gonçalo próximo à passarela do Coelho',\n",
              "       'Túnel Rebouças sentido Zo', \"Morro da Caixa d'Água\",\n",
              "       'Jardim Catari', 'região de Brás de Pina',\n",
              "       'Morro do Vidigal agora há pouco', 'paralisação)',\n",
              "       'altura da passar… https:', 'altura de Campos', 'alterações',\n",
              "       'sentido centro próxim… https:', 'Santa Lúcia',\n",
              "       'Rio Comprido nas proximidades do quartel dos Bombeiros',\n",
              "       'Morros do Dendê e Guarabu', 'Rua Cambuci do Vale',\n",
              "       \"e Caixa d'Água\", 'Cachambi nas proximidades da Rua Cirne Maia',\n",
              "       'a todo custo passar pela Linha Vermelha', 'região da Ponte Nova',\n",
              "       'Serra Grajaú X JPA sentido Grajaú pouco depois da cabine… https:',\n",
              "       'Vila Pauline', 'bairro Todos os Santos', 'Parque União',\n",
              "       'Presidente Vargas', 'Centro do Rio', 'Camorim Peque',\n",
              "       'Jardim Miriambi', 'Rua Santa Alexandri',\n",
              "       'alguns pontos do Complexo do Alemão', 'Campinho e Saçu',\n",
              "       'cidade da Polícia', 'linha de tiro dentro de um ônibus',\n",
              "       'parte alta da Rocinha', 'altura da estação do Engenho de Dentro',\n",
              "       'aplicati… https:', 'uma passarela', 'aplica… https:',\n",
              "       'Parque Arará', 'ônibus da Linha 383', 'Morro Chapéu Mangueira',\n",
              "       'Gogó da Ema de Guadalupe',\n",
              "       'Bairro do Riachuelo próximos à Rua Flack',\n",
              "       'Catumbi próximo ao Supermercado Prezunic', 'Morro do Sapo',\n",
              "       'Petrópolis', 'Centro de Queimados', 'Roseiral', 'Bom Pastor',\n",
              "       'Estrada da Palhada', 'Morro do Adeus', 'Complexo do Turano',\n",
              "       'Engenho Novo e Vila Isabel', 'Apolo 3', 'Brejal ',\n",
              "       'Saída 9B da Linha Amarela ', 'Rua Fagundes Varela', 'Sampaio',\n",
              "       'Morro do Boa Vista', 'Castelar', 'e Chacrinha',\n",
              "       'Complexo da Pedreira', 'Largo da Batalha', 'Cidade Alta', 'Areal',\n",
              "       'Rua Satamini', 'Vila Aliança hoje mais cedo',\n",
              "       'e Vista Alegre próxim… https:',\n",
              "       'Leblon próximos à Rua Timóteo da Costa', 'Morro do Amor',\n",
              "       'Rua 24 de Maio', 'Rua Coração de Maria', 'BR 493',\n",
              "       'Morro São Pedro', 'Morro do Fallet e Fogueteiro',\n",
              "       'parte baixa da Rocinha',\n",
              "       'Méier pelas ruas Coração de Maria e Arquias Cordeiro onde… https:',\n",
              "       'Jardim Esperança', 'Morro do Urubu por Piedade e Pilares',\n",
              "       'muro da Super Via seguida de tiros', 'Recanto das Acácias',\n",
              "       'bairro do Rio Comprido', 'sentido LEBLON ', 'Gávea',\n",
              "       'Morro do Faz Qu',\n",
              "       'Rua Enaldo dos Santos Araújo próximo à estação de tr',\n",
              "       'Jardim Íris', 'Morro da Alma', 'Morro do Orfanato',\n",
              "       'Morro entre Vila Kennedy e Vila Aliança', 'luz',\n",
              "       \"Morro da Caixa D'Água\", 'Morro da Covanca', 'RJ 106',\n",
              "       'nas Casinhas', 'a Estrada Adhemar Bebiano', 'Nova Iguaçu ',\n",
              "       'Humaitá', 'Cidade de adeus', 'região do centro', 'Morro Faz Qu',\n",
              "       'Alto da Boa Vista', 'ti… https:', 'aplicativ… https:',\n",
              "       'aplicativo O… https:', 'um senhor perdido e desorientado',\n",
              "       'série agora pouco', 'Ruanda Turquesas', 'Itanhangá',\n",
              "       'Morro Santo Amaro', 'Rua Ibituru',\n",
              "       'Gogó da Ema de Belford Roxo próximo ao Barro Vermelho',\n",
              "       'pista sentido Rio', 'Rua Lins de Vasconcelos',\n",
              "       'altura do trevo de Angra está fechada novamente',\n",
              "       'bairro do Colégio', 'Morro São José',\n",
              "       'Cachambi nas proximidades da Rua Basílio de Brito',\n",
              "       'Ricardo de Albuquerque deu um estouro', 'Rua do Bispo',\n",
              "       'Penha… https:', 'Complexo do Alemão continuam',\n",
              "       'energia desde ont',\n",
              "       'cruzamento das Ruas Senador Nabuco com Silva Pinto',\n",
              "       'várias vias de Jacarepaguá', 'região do Catete',\n",
              "       'frente ao BRT do Recreio Shopping',\n",
              "       'sul para a Barra e da Barra pa… https:', 'por volta das 19:30h',\n",
              "       'está saindo da Barra de Ônibus ou de carro para chegar a Zo',\n",
              "       'Complexo da Maré entre traficantes e uma aeronave da Polícia',\n",
              "       'Morro do Juramento por Vaz Lobo', 'aplicativo On… https:',\n",
              "       'aplicat… https:', 'aplicativo Onde T… https:',\n",
              "       'aplicativo Onde… https:', 'a… https:', 'aplic… https:',\n",
              "       'O OTT CHEGOU NA SUA CIDADE!\\n\\nOuviu tiros?? Disparos ?? Presenciou um arrastão?\\n\\nRegistre',\n",
              "       '@dcabellor El OTT llegó en tu ciudad!\\n\\nEscuchó tiros?? Disparos ?? Viste un arrastrero',\n",
              "       'altura da Sapin… https:', 'Abolição',\n",
              "       'THE OTT PLATFORM HAS EXPANDED!\\n\\nHave you heard shoots?? Robbery ?? Protests?\\n\\nLogin into… https:',\n",
              "       'região de Magalhes Bastos', 'Babi ', 'rua',\n",
              "       'Andaraí próximos ao Hospital do Andaraí', 'Chapadão',\n",
              "       'Engenho de Dentro nas imediações da Rua Doutor Bulhões',\n",
              "       'Morro da Pedreira', 'Parque Anchieta', 'Rua Duque de Caxias',\n",
              "       'Rua das Oficinas', 'AV', 'Lagoinha', 'Marechal Marcia', 'BR 101',\n",
              "       'ponte do Rio Guandu', 'luz desde ont', 'comunidade que fica',\n",
              "       'Rua Concílio Ecumênico', 'Grajaú continua com árvores caídas',\n",
              "       'Tijuca está fechada e s', 'Base Aér… https:',\n",
              "       'Dique de Vilar dos Teles', 'centro de Queimados',\n",
              "       'acesso ao Morro do Urubu por Piedade', 'Rua Walter Seder',\n",
              "       'Complexo do Lins localidade Árvore Seca',\n",
              "       'Complexo do Lins próximos ao Hospital Marcílio Dias',\n",
              "       'Manguinhos nas proximidades da Rua Capitão Bragança',\n",
              "       'Gardênia Azul', 'Morro da Quitanda',\n",
              "       'Morro da Mangueira e os mesmos estão sendo ouvidos',\n",
              "       'Morro da Congonha', 'Morro do Rola Bosta', 'Vilar Novo',\n",
              "       'bairro do Estácio', 'Cidade de Deus mas não… https:',\n",
              "       'a Edgard Romero', 'estrada de vigario 525', 'Centro de Caxias',\n",
              "       'Boulevard 28 de Setembro', 'centro de Nova Aurora',\n",
              "       'saída da Linha Vermelha', 'estrada do Catonho',\n",
              "       'Rio das Pedras interdita a Av', 'operação',\n",
              "       'Serrinha sendo ouvidos', 'Dutra sentido Rio', 'parte dos tiros',\n",
              "       'Flamengo', 'ponte que liga Barra de Sao João a Unamar',\n",
              "       'Barra da Tijuca', 'data', 'Vidigal  agora há pouco',\n",
              "       'Candido Benício', 'Rio', 'Praça Seca agora há pouco',\n",
              "       'bairro do Tanque', 'Bateau Mouche', 'Estrada… https:',\n",
              "       'Edgard Romero', 'Barão da Torre', 'comunidade do Pé peque',\n",
              "       'morro do Cavalão', 'Pedreira', 'Vigário Geral',\n",
              "       'altura da estação de tr', 'estado de atenção', 'passar',\n",
              "       'estação Grajaú', 'as ruas', \"Barra com bolsões d'água\", 'zo',\n",
              "       'Avenida Henrique Duque Estrada Mayer', 'rua Operário… https:',\n",
              "       'rua Operário Saddock… https:',\n",
              "       'souber de alguma notícia  sobre o nosso carro… https:', 'Urubu',\n",
              "       'um carro', 'Muquiço', 'madrugada do dia 03', 'parte da tarde',\n",
              "       'Morro da Glória 1', 'HD WK E', 'bairro do Maracanã', 'Wo',\n",
              "       'Rua Santos Mello', 'e até agora não voltou'], dtype=object)"
            ]
          },
          "metadata": {
            "tags": []
          },
          "execution_count": 13
        }
      ]
    },
    {
      "cell_type": "markdown",
      "metadata": {
        "id": "zSG4SpFLfh0D"
      },
      "source": [
        "We have filtered the dataframe as best as we can, now we need to clean out the wrong values."
      ]
    },
    {
      "cell_type": "markdown",
      "metadata": {
        "id": "7L8Bwj06xUgj"
      },
      "source": [
        "## **Frustrated Dev Diary**\r\n",
        "\r\n",
        "**Entry 21-01-2021** <br>\r\n",
        "Another day, another project. Created Twitter's development account and officially began the project. Shoutout to @saramalvar for supporting it and helping on it. <br>\r\n",
        "\r\n",
        "**Entry 22-01-2021:** <br>\r\n",
        "Tweets have been posted on a dataframe. Df's limit is of 20 tweets by the method\r\n",
        "we imported, so we'll have to think a way of expanding it, but we'll create the\r\n",
        "regex for the 20 just as a start. We have tweet date (to take the year and month) and text so we can create the real dataframe with divisions by columns. <br>\r\n",
        "The idea is: if the dataframe doesn't have place description then we disregard the input. <br>\r\n",
        "\r\n",
        "**Entry 25-01-2021:** <br>\r\n",
        "I believe we collected almost all useful tweets. We used 3 sets of regex and ran on our database of tweets collected from the API. Out of the 3200 tweets we used 3000. The remanining ones (tails and heads of df checked for this) seemed to be mentions asking where did the shootings happened and other similar. Branding as well. <br>\r\n",
        "\r\n",
        "**Entry 03-02-2021:** <br>\r\n",
        "We gave up on regexing everything. Finally we have found a way to have 500 tweets, which is a fair amount of tweets, so now we're on to finding an API which allows us to actually get the coordinates and then plot our map."
      ]
    },
    {
      "cell_type": "markdown",
      "metadata": {
        "id": "xp-bCBWc1CKp"
      },
      "source": [
        "## **Change Log**\r\n",
        "**Version 0.2.0:** Reduced the amount of regex calculated. Now we use only the standard tweet with shot and place instead of trying to fetch all."
      ]
    },
    {
      "cell_type": "code",
      "metadata": {
        "id": "nIovK2kO1S6N"
      },
      "source": [
        ""
      ],
      "execution_count": null,
      "outputs": []
    }
  ]
}